{
  "nbformat": 4,
  "nbformat_minor": 0,
  "metadata": {
    "colab": {
      "name": "파이토치 딥러닝 프로젝트_Mnist.ipynb",
      "provenance": [],
      "collapsed_sections": [],
      "authorship_tag": "ABX9TyP5nHWRzABzJufpd/J7FiM/",
      "include_colab_link": true
    },
    "kernelspec": {
      "name": "python3",
      "display_name": "Python 3"
    },
    "language_info": {
      "name": "python"
    },
    "accelerator": "GPU"
  },
  "cells": [
    {
      "cell_type": "markdown",
      "metadata": {
        "id": "view-in-github",
        "colab_type": "text"
      },
      "source": [
        "<a href=\"https://colab.research.google.com/github/kty9798/machine_learning_study/blob/main/%ED%8C%8C%EC%9D%B4%ED%86%A0%EC%B9%98_%EB%94%A5%EB%9F%AC%EB%8B%9D_%ED%94%84%EB%A1%9C%EC%A0%9D%ED%8A%B8_Mnist.ipynb\" target=\"_parent\"><img src=\"https://colab.research.google.com/assets/colab-badge.svg\" alt=\"Open In Colab\"/></a>"
      ]
    },
    {
      "cell_type": "markdown",
      "source": [
        "## 책 파이토치 딥러닝 프로젝트 모음집"
      ],
      "metadata": {
        "id": "l23qNIKc1lHf"
      }
    },
    {
      "cell_type": "markdown",
      "source": [
        "과적합  다중공선성"
      ],
      "metadata": {
        "id": "XYuPAcbnI8K0"
      }
    },
    {
      "cell_type": "markdown",
      "source": [
        "Lasso 와 Ridge"
      ],
      "metadata": {
        "id": "Bya4GE5rI__o"
      }
    },
    {
      "cell_type": "markdown",
      "source": [
        "### 머신러닝과 딥러닝의 차이 (활용 데이터 형탸 차이 , 데이터 의전도 , 설명력 , 특징 추출 정도가 다름)"
      ],
      "metadata": {
        "id": "jdn3NRFQ9NXj"
      }
    },
    {
      "cell_type": "markdown",
      "source": [
        "1. perceptron 뉴런(기본 단위)"
      ],
      "metadata": {
        "id": "7CBaGSUlJF4l"
      }
    },
    {
      "cell_type": "markdown",
      "source": [
        "2. 다층 퍼셉트론(MLP) 입력층과 출력층 사이에 은닉층이 쌓인 구조"
      ],
      "metadata": {
        "id": "qWcu8_VnJF6p"
      }
    },
    {
      "cell_type": "code",
      "source": [
        "###################3"
      ],
      "metadata": {
        "id": "9mFUW73a1tEY"
      },
      "execution_count": null,
      "outputs": []
    },
    {
      "cell_type": "markdown",
      "source": [
        "- parameter 즉 weight를 구하는 방법은 어떻게 될까? \n",
        "다층 퍼셉트론 --> 순전파(Feed forward) + 역전파(Back propagation)\n",
        "1. 가중치를 임의로 주고 계산\n",
        "2. 출력층에서 입력층의 방향으로 오차를 줄일 수 있게  가중치 조정\n",
        "- `epoch` 는 feed forward 와 back propagation 이 한번 반복된것 \n",
        "- 퍼셉트론 구조의 모든 네트크를 인공신경망이라 통칭"
      ],
      "metadata": {
        "id": "FkCv-TuF1tHN"
      }
    },
    {
      "cell_type": "markdown",
      "source": [
        "`경사 하강법` -> 오차 역전파 과정에서 오차를 줄이는 방향으로 가중치를 업데이트 하는 방식\n",
        "- gradient 와 learning rate를 잘 조절하는 것이 필요\n",
        "  "
      ],
      "metadata": {
        "id": "3GyYoam6_SyR"
      }
    },
    {
      "cell_type": "markdown",
      "source": [
        "* 인공신경망의 장점 중 하나\n",
        "\n",
        "비선형 활성함수를 이용하는 점 \n",
        "- 왜냐하면 gradient vanishing 문제가 발생하였음(기울기 소실 문제)\n",
        "그래서 최근엔 RELU(rectified Linear unit) 나 ELU(Exponential linear unit) 등을 사용"
      ],
      "metadata": {
        "id": "lZB-3ziK_sUs"
      }
    },
    {
      "cell_type": "markdown",
      "source": [
        "### 출력함수\n",
        "1. 회귀 문제면 -> identify function 사용\n",
        "\n",
        "2. 분류 문제 -> softmax Function 사용(입력값을 0에서 1사이로 정규화햐여 총합을 항상 1로 만드는 특징)"
      ],
      "metadata": {
        "id": "UTUARv0QAl9R"
      }
    },
    {
      "cell_type": "markdown",
      "source": [
        "### 드롭아웃\n",
        "\n",
        "일정 비율의 노드만 활용(인공지능이 앙상블해지는 효과)\n",
        "\n",
        "### batch Nomalization"
      ],
      "metadata": {
        "id": "8FZ2dfT9A6jJ"
      }
    },
    {
      "cell_type": "markdown",
      "source": [
        "### CNN (convolution Neural Network)"
      ],
      "metadata": {
        "id": "uiC9VfY91tR9"
      }
    },
    {
      "cell_type": "markdown",
      "source": [
        "convolution layer  pooling layer , fully connected layer 총 3개의 layer로 구성\n",
        "\n",
        "1. convolution 합성곱 연산\n",
        "\n",
        "2. pooling 은 feature map의 크기를 줄이는 방식"
      ],
      "metadata": {
        "id": "BhLKupMjDdiK"
      }
    },
    {
      "cell_type": "markdown",
      "source": [
        "### RNN(Recurrent Neural Network)"
      ],
      "metadata": {
        "id": "9AOrKSC0GPbw"
      }
    },
    {
      "cell_type": "markdown",
      "source": [
        "- 음성인식 & 자연어 처리에 이용되는 알고리즘\n",
        "- LSTM & GRU 의 근간"
      ],
      "metadata": {
        "id": "OvEVTwcRGbAP"
      }
    },
    {
      "cell_type": "code",
      "source": [
        "## 실습 및 가상환경 구축"
      ],
      "metadata": {
        "id": "yTOcL-Sg1tWt"
      },
      "execution_count": null,
      "outputs": []
    },
    {
      "cell_type": "markdown",
      "source": [
        "## 실습 및 가상환경 구축"
      ],
      "metadata": {
        "id": "0pIkzhQKKYDE"
      }
    },
    {
      "cell_type": "code",
      "source": [
        "독립된 방을 만든다고 생각하면 편합"
      ],
      "metadata": {
        "id": "QqYph6hZ1tZb"
      },
      "execution_count": null,
      "outputs": []
    },
    {
      "cell_type": "code",
      "source": [
        "'''#!conda create -n [가상환경 이름] python= []\n",
        "activate []\n",
        "deactivate []'''"
      ],
      "metadata": {
        "id": "3TYQbBsx1tcA"
      },
      "execution_count": null,
      "outputs": []
    },
    {
      "cell_type": "code",
      "source": [
        "!pip install pytorch"
      ],
      "metadata": {
        "colab": {
          "base_uri": "https://localhost:8080/"
        },
        "id": "-hrBG5De1tgo",
        "outputId": "a2041bc8-dd67-4fab-8eec-07dae4bcf287"
      },
      "execution_count": null,
      "outputs": [
        {
          "output_type": "stream",
          "name": "stdout",
          "text": [
            "Collecting pytorch\n",
            "  Downloading pytorch-1.0.2.tar.gz (689 bytes)\n",
            "Building wheels for collected packages: pytorch\n",
            "  Building wheel for pytorch (setup.py) ... \u001b[?25lerror\n",
            "\u001b[31m  ERROR: Failed building wheel for pytorch\u001b[0m\n",
            "\u001b[?25h  Running setup.py clean for pytorch\n",
            "Failed to build pytorch\n",
            "Installing collected packages: pytorch\n",
            "    Running setup.py install for pytorch ... \u001b[?25l\u001b[?25herror\n",
            "\u001b[31mERROR: Command errored out with exit status 1: /usr/bin/python3 -u -c 'import io, os, sys, setuptools, tokenize; sys.argv[0] = '\"'\"'/tmp/pip-install-j0tk_zxu/pytorch_a7a5001ee3ed4bdebce6d1196715897d/setup.py'\"'\"'; __file__='\"'\"'/tmp/pip-install-j0tk_zxu/pytorch_a7a5001ee3ed4bdebce6d1196715897d/setup.py'\"'\"';f = getattr(tokenize, '\"'\"'open'\"'\"', open)(__file__) if os.path.exists(__file__) else io.StringIO('\"'\"'from setuptools import setup; setup()'\"'\"');code = f.read().replace('\"'\"'\\r\\n'\"'\"', '\"'\"'\\n'\"'\"');f.close();exec(compile(code, __file__, '\"'\"'exec'\"'\"'))' install --record /tmp/pip-record-pzjpfcts/install-record.txt --single-version-externally-managed --compile --install-headers /usr/local/include/python3.7/pytorch Check the logs for full command output.\u001b[0m\n"
          ]
        }
      ]
    },
    {
      "cell_type": "code",
      "source": [
        "import torch"
      ],
      "metadata": {
        "id": "vMQaKtZZ1ti3"
      },
      "execution_count": null,
      "outputs": []
    },
    {
      "cell_type": "markdown",
      "source": [
        "MNIST 데이터 이용해보기"
      ],
      "metadata": {
        "id": "zbt_WPMALFt8"
      }
    },
    {
      "cell_type": "code",
      "source": [
        "import torch\n",
        "import torch.nn as nn #기본 구성 요소\n",
        "import torch.nn.functional as F #자주 이용되는 함수를 담은 모듈\n",
        "import torch.optim as optim #최적화 알고리즘\n",
        "from torchvision import datasets , transforms\n",
        "\n",
        "from matplotlib import pyplot as plt\n",
        "%matplotlib inline\n",
        "#코드 실행시 브라우저에서 바로 그림을 보려면 적어줘야하는 코드"
      ],
      "metadata": {
        "id": "8u_5BDcb1tlO"
      },
      "execution_count": null,
      "outputs": []
    },
    {
      "cell_type": "markdown",
      "source": [
        ""
      ],
      "metadata": {
        "id": "jfAJkY_q1tnx"
      }
    },
    {
      "cell_type": "code",
      "source": [
        "is_coda = torch.cuda.is_available()\n",
        "device = torch.device('cuda' if is_coda else 'cpu')\n",
        "\n",
        "print('current cuda device is ',   device)"
      ],
      "metadata": {
        "colab": {
          "base_uri": "https://localhost:8080/"
        },
        "id": "wPmxuXXJ1tsM",
        "outputId": "c59693ec-98ad-4a43-e6a6-408b9bcb6743"
      },
      "execution_count": null,
      "outputs": [
        {
          "output_type": "stream",
          "name": "stdout",
          "text": [
            "current cuda device is  cpu\n"
          ]
        }
      ]
    },
    {
      "cell_type": "code",
      "source": [
        "batch_size = 50\n",
        "epoch_num = 15\n",
        "learning_rate = 0.0001"
      ],
      "metadata": {
        "id": "-jt3FnIL1tui"
      },
      "execution_count": null,
      "outputs": []
    },
    {
      "cell_type": "code",
      "source": [
        "train_data = datasets.MNIST(root = './data' ,train = True , download = True , transform = transforms.ToTensor())\n",
        "test_data = datasets.MNIST(root = './data' ,train = False , transform = transforms.ToTensor())\n",
        "print(len(train_data))"
      ],
      "metadata": {
        "colab": {
          "base_uri": "https://localhost:8080/"
        },
        "id": "WQRXFsMP1tw7",
        "outputId": "5e2209d4-273f-4d50-f1eb-ef9472514e43"
      },
      "execution_count": null,
      "outputs": [
        {
          "output_type": "stream",
          "name": "stdout",
          "text": [
            "60000\n"
          ]
        }
      ]
    },
    {
      "cell_type": "code",
      "source": [
        "image , label = train_data[0]\n",
        "\n",
        "plt.imshow(image.squeeze().numpy() , cmap = \"gray\")\n",
        "plt.title(\"label : %s\" % label)\n",
        "plt.show()"
      ],
      "metadata": {
        "colab": {
          "base_uri": "https://localhost:8080/",
          "height": 281
        },
        "id": "UyvcHNu01tzB",
        "outputId": "fa4372ae-448f-49cf-cf7d-3a6ae41b74e8"
      },
      "execution_count": null,
      "outputs": [
        {
          "output_type": "display_data",
          "data": {
            "image/png": "[encoded data removed]",
            "text/plain": [
              "<Figure size 432x288 with 1 Axes>"
            ]
          },
          "metadata": {
            "needs_background": "light"
          }
        }
      ]
    },
    {
      "cell_type": "code",
      "source": [
        "train_data[0]"
      ],
      "metadata": {
        "id": "_1EqXFYrNsLk"
      },
      "execution_count": null,
      "outputs": []
    },
    {
      "cell_type": "markdown",
      "source": [
        "미리 지정한 배치 사이즈를 통해 구상"
      ],
      "metadata": {
        "id": "MJrOpXFMN_7t"
      }
    },
    {
      "cell_type": "code",
      "source": [
        "train_loader= torch.utils.data.DataLoader(dataset = train_data , \n",
        "                                          batch_size = batch_size,\n",
        "                                          shuffle = True)\n",
        "test_loader = torch.utils.data.DataLoader(dataset = test_data , \n",
        "                                          batch_size = batch_size,\n",
        "                                          shuffle = True)\n"
      ],
      "metadata": {
        "id": "TIHm_6S41t1Z"
      },
      "execution_count": null,
      "outputs": []
    },
    {
      "cell_type": "code",
      "source": [
        "first_batch = train_loader.__iter__().__next__()\n",
        "print(\"{:15s}  | {:25s} | {}\".format('name' , 'type' , 'size'))\n",
        "print(\"{:15s}  | {:25s} | {}\".format('Num of batch' , '' , len(train_loader)))\n",
        "print(\"{:15s}  | {:25s} | {}\".format('first batch' , str(type(first_batch)) , len(first_batch)))\n",
        "print(\"{:15s}  | {:25s} | {}\".format('first batch[0]' , str(type(first_batch[0])) , first_batch[0].shape))\n",
        "print(\"{:15s}  | {:25s} | {}\".format('first batch[1]' , str(type(first_batch[1])) , first_batch[1].shape))"
      ],
      "metadata": {
        "colab": {
          "base_uri": "https://localhost:8080/"
        },
        "id": "UI60-wJPOYju",
        "outputId": "4a4f8942-a67a-4d88-ecaa-77a0e04a9a6f"
      },
      "execution_count": null,
      "outputs": [
        {
          "output_type": "stream",
          "name": "stdout",
          "text": [
            "name             | type                      | size\n",
            "Num of batch     |                           | 1200\n",
            "first batch      | <class 'list'>            | 2\n",
            "first batch[0]   | <class 'torch.Tensor'>    | torch.Size([50, 1, 28, 28])\n",
            "first batch[1]   | <class 'torch.Tensor'>    | torch.Size([50])\n"
          ]
        }
      ]
    },
    {
      "cell_type": "markdown",
      "source": [
        ""
      ],
      "metadata": {
        "id": "JiPZW6wrT4Nv"
      }
    },
    {
      "cell_type": "markdown",
      "source": [
        "#### 모델 형성"
      ],
      "metadata": {
        "id": "PjAjIxHgT4R9"
      }
    },
    {
      "cell_type": "code",
      "source": [
        "class CNN(nn.Module): #nn.module 을 상속받는 클래스르 정의\n",
        "\n",
        "  def __init__(self): #사용되는 가중치 정의\n",
        "    super(CNN , self).__init__() #nn.module을 상속받고 초기화\n",
        "    self.conv1 = nn.Conv2d(1 , 32 , 3 ,1)\n",
        "    self.conv2 = nn.Conv2d(32 , 64 , 3 , 1)\n",
        "    self.dropout1 = nn.Dropout2d(0.25)\n",
        "    self.dropout2 = nn.Dropout2d(0.5)\n",
        "    self.fc1 = nn.Linear(9216 , 128)\n",
        "    self.fc2 = nn.Linear(128 , 10)\n",
        "\n",
        "  def forward(self, x):\n",
        "    x = self.conv1(x)\n",
        "    x = F.relu(x)\n",
        "    x = self.conv2(x)\n",
        "    x= F.relu(x)\n",
        "    x = F.max_pool2d(x  , 2)\n",
        "    x = self.dropout1(x)\n",
        "    x = torch.flatten(x , 1) \n",
        "    x = self.fc1(x)\n",
        "    x = F.relu(x)\n",
        "    x = self.dropout2(x)\n",
        "    x = self.fc2(x)\n",
        "    output = F.log_softmax(x , dim =1 )\n",
        "    return output"
      ],
      "metadata": {
        "id": "kcvKSTod1t37"
      },
      "execution_count": null,
      "outputs": []
    },
    {
      "cell_type": "code",
      "source": [
        "print(learning_rate)"
      ],
      "metadata": {
        "colab": {
          "base_uri": "https://localhost:8080/"
        },
        "id": "ke-HULp8VHH_",
        "outputId": "6fd40983-0370-4b4a-a620-574f959b1468"
      },
      "execution_count": null,
      "outputs": [
        {
          "output_type": "stream",
          "name": "stdout",
          "text": [
            "0.0001\n"
          ]
        }
      ]
    },
    {
      "cell_type": "code",
      "source": [
        "model = CNN().to(device)\n",
        "optimizer = optim.Adam(model.parameters() , lr  = learning_rate)\n",
        "criterion = nn.CrossEntropyLoss()"
      ],
      "metadata": {
        "id": "UAzACzoFTYFp"
      },
      "execution_count": null,
      "outputs": []
    },
    {
      "cell_type": "code",
      "source": [
        "print(model)"
      ],
      "metadata": {
        "colab": {
          "base_uri": "https://localhost:8080/"
        },
        "id": "sVUZIpwU1t8-",
        "outputId": "cd49ef1d-1dc8-4a26-9452-d6683db0a316"
      },
      "execution_count": null,
      "outputs": [
        {
          "output_type": "stream",
          "name": "stdout",
          "text": [
            "CNN(\n",
            "  (conv1): Conv2d(1, 32, kernel_size=(3, 3), stride=(1, 1))\n",
            "  (conv2): Conv2d(32, 64, kernel_size=(3, 3), stride=(1, 1))\n",
            "  (dropout1): Dropout2d(p=0.25, inplace=False)\n",
            "  (dropout2): Dropout2d(p=0.5, inplace=False)\n",
            "  (fc1): Linear(in_features=9216, out_features=128, bias=True)\n",
            "  (fc2): Linear(in_features=128, out_features=10, bias=True)\n",
            ")\n"
          ]
        }
      ]
    },
    {
      "cell_type": "markdown",
      "source": [
        "#### 모델 학습\n"
      ],
      "metadata": {
        "id": "Ga_sOw5IT0pB"
      }
    },
    {
      "cell_type": "code",
      "source": [
        "device = \"cuda\""
      ],
      "metadata": {
        "id": "vE-EiTrFU18F"
      },
      "execution_count": null,
      "outputs": []
    },
    {
      "cell_type": "code",
      "source": [
        "model.train()\n",
        "i=0\n",
        "for epoch in range(epoch_num):\n",
        "  for data , target in train_loader:\n",
        "    data = data.to(device)\n",
        "    target = target.to(device)\n",
        "    optimizer.zero_grad()\n",
        "    output= model(data)\n",
        "    loss = criterion(output , target)\n",
        "    loss.backward()\n",
        "    optimizer.step()\n",
        "    if i % 1000 ==0:\n",
        "      print(\"train Step : {}\\t Loss : {:.3f}\".format(i , loss.item()))\n",
        "    i+=1"
      ],
      "metadata": {
        "colab": {
          "base_uri": "https://localhost:8080/"
        },
        "id": "pRPlzlVN1uPQ",
        "outputId": "d414f92e-8608-4589-953e-2caadb72fd3f"
      },
      "execution_count": null,
      "outputs": [
        {
          "output_type": "stream",
          "name": "stdout",
          "text": [
            "train Step : 0\t Loss : 2.315\n",
            "train Step : 1000\t Loss : 0.212\n",
            "train Step : 2000\t Loss : 0.133\n",
            "train Step : 3000\t Loss : 0.086\n",
            "train Step : 4000\t Loss : 0.109\n",
            "train Step : 5000\t Loss : 0.116\n",
            "train Step : 6000\t Loss : 0.162\n",
            "train Step : 7000\t Loss : 0.033\n",
            "train Step : 8000\t Loss : 0.025\n",
            "train Step : 9000\t Loss : 0.050\n",
            "train Step : 10000\t Loss : 0.033\n",
            "train Step : 11000\t Loss : 0.034\n",
            "train Step : 12000\t Loss : 0.046\n",
            "train Step : 13000\t Loss : 0.009\n",
            "train Step : 14000\t Loss : 0.007\n",
            "train Step : 15000\t Loss : 0.081\n",
            "train Step : 16000\t Loss : 0.019\n",
            "train Step : 17000\t Loss : 0.037\n",
            "train Step : 18000\t Loss : 0.003\n",
            "train Step : 19000\t Loss : 0.023\n",
            "train Step : 20000\t Loss : 0.025\n",
            "train Step : 21000\t Loss : 0.023\n",
            "train Step : 22000\t Loss : 0.014\n",
            "train Step : 23000\t Loss : 0.036\n",
            "train Step : 24000\t Loss : 0.008\n",
            "train Step : 25000\t Loss : 0.027\n",
            "train Step : 26000\t Loss : 0.002\n",
            "train Step : 27000\t Loss : 0.010\n",
            "train Step : 28000\t Loss : 0.004\n",
            "train Step : 29000\t Loss : 0.049\n",
            "train Step : 30000\t Loss : 0.036\n",
            "train Step : 31000\t Loss : 0.002\n",
            "train Step : 32000\t Loss : 0.007\n",
            "train Step : 33000\t Loss : 0.007\n",
            "train Step : 34000\t Loss : 0.089\n",
            "train Step : 35000\t Loss : 0.066\n",
            "train Step : 36000\t Loss : 0.016\n",
            "train Step : 37000\t Loss : 0.001\n",
            "train Step : 38000\t Loss : 0.053\n",
            "train Step : 39000\t Loss : 0.004\n",
            "train Step : 40000\t Loss : 0.077\n",
            "train Step : 41000\t Loss : 0.002\n",
            "train Step : 42000\t Loss : 0.007\n",
            "train Step : 43000\t Loss : 0.003\n",
            "train Step : 44000\t Loss : 0.006\n",
            "train Step : 45000\t Loss : 0.008\n",
            "train Step : 46000\t Loss : 0.004\n",
            "train Step : 47000\t Loss : 0.006\n",
            "train Step : 48000\t Loss : 0.006\n",
            "train Step : 49000\t Loss : 0.006\n",
            "train Step : 50000\t Loss : 0.004\n",
            "train Step : 51000\t Loss : 0.002\n",
            "train Step : 52000\t Loss : 0.002\n",
            "train Step : 53000\t Loss : 0.002\n",
            "train Step : 54000\t Loss : 0.014\n",
            "train Step : 55000\t Loss : 0.030\n",
            "train Step : 56000\t Loss : 0.071\n",
            "train Step : 57000\t Loss : 0.001\n",
            "train Step : 58000\t Loss : 0.002\n",
            "train Step : 59000\t Loss : 0.006\n"
          ]
        }
      ]
    },
    {
      "cell_type": "code",
      "source": [
        "model.eval() #dropout이 적용되지 않고 batch-normalization인 평가모드로 변환 \n",
        "correct = 0\n",
        "\n",
        "for data , target in test_loader:\n",
        "  data  = data.to('cuda')\n",
        "  target = target.to('cuda')\n",
        "  output = model(data)\n",
        "  prediction = output.data.max(1)[1]\n",
        "  correct += prediction.eq(target.data).sum()\n",
        "\n",
        "print('Test set: accuracy : {:.2f}%'.format(100 * correct/len(test_loader.dataset)))\n"
      ],
      "metadata": {
        "colab": {
          "base_uri": "https://localhost:8080/"
        },
        "id": "S0S-TQZjXK0o",
        "outputId": "d555b1c8-63b5-4cba-83e0-6e3915428af3"
      },
      "execution_count": null,
      "outputs": [
        {
          "output_type": "stream",
          "name": "stdout",
          "text": [
            "Test set: accuracy : 99.25%\n"
          ]
        }
      ]
    },
    {
      "cell_type": "markdown",
      "source": [
        "### 실전 파트"
      ],
      "metadata": {
        "id": "PsNLVgWVYZfF"
      }
    },
    {
      "cell_type": "code",
      "source": [
        ""
      ],
      "metadata": {
        "id": "gy1Sf8Ao1ugN"
      },
      "execution_count": null,
      "outputs": []
    },
    {
      "cell_type": "code",
      "source": [
        ""
      ],
      "metadata": {
        "id": "PV33PHch1ulU"
      },
      "execution_count": null,
      "outputs": []
    },
    {
      "cell_type": "code",
      "source": [
        ""
      ],
      "metadata": {
        "id": "XVVBHCBM1upV"
      },
      "execution_count": null,
      "outputs": []
    }
  ]
}